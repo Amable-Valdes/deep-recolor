{
 "cells": [
  {
   "cell_type": "code",
   "execution_count": 1,
   "metadata": {},
   "outputs": [],
   "source": [
    "import numpy as np\n",
    "import matplotlib.pyplot as plt\n",
    "from PIL import Image\n",
    "import glob\n",
    "import cv2\n",
    "import os,shutil\n",
    "import random\n",
    "import time\n",
    "\n",
    "def charge_msg(msg):\n",
    "    print(msg, end=\"\\r\")\n",
    "    time.sleep(0)"
   ]
  },
  {
   "cell_type": "code",
   "execution_count": 29,
   "metadata": {},
   "outputs": [
    {
     "name": "stdout",
     "output_type": "stream",
     "text": [
      "Our pure dataset is on pure_dataset (Oh! Is so pure!)\n",
      "Our dataset will be on dataset. \n",
      "The dataset folder already exist. We will delete it and the images...\n",
      "Images and Folder deleted\n",
      "Folder: dataset has been created\n",
      "Folder: dataset/train has been created\n",
      "Folder: dataset/validation has been created\n",
      "Folder: dataset/test has been created\n",
      "All doneg images... Image: 12750\n"
     ]
    }
   ],
   "source": [
    "pure_dataset_path = \"pure_dataset\"\n",
    "dataset_path = \"dataset\"\n",
    "\n",
    "print(\"Our pure dataset is on \" + pure_dataset_path + \" (Oh! Is so pure!)\")\n",
    "print(\"Our dataset will be on \" + dataset_path + \". \")\n",
    "\n",
    "if os.path.isdir(dataset_path):\n",
    "    print(\"The dataset folder already exist. We will delete it and the images...\")\n",
    "    shutil.rmtree(dataset_path)\n",
    "    print(\"Images and Folder deleted\")\n",
    "os.makedirs(dataset_path)\n",
    "print(\"Folder: \" + dataset_path + \" has been created\")\n",
    "os.makedirs(dataset_path + \"/train\")\n",
    "print(\"Folder: \" + dataset_path + \"/train has been created\")\n",
    "os.makedirs(dataset_path + \"/validation\")\n",
    "print(\"Folder: \" + dataset_path + \"/validation has been created\")\n",
    "os.makedirs(dataset_path + \"/test\")\n",
    "print(\"Folder: \" + dataset_path + \"/test has been created\")\n",
    "\n",
    "number_images_procesed = 0\n",
    "MAX_NUMBER_TRAIN = 7000\n",
    "MAX_NUMBER_VALIDATION = 5000\n",
    "MAX_NUMBER_TEST = 750\n",
    "for path_image in glob.glob(pure_dataset_path + \"/*.jpg\"):\n",
    "    image_name = path_image.split('\\\\')[1] # with .jpg at the end!\n",
    "    image = cv2.imread(path_image,1)\n",
    "    gray = cv2.cvtColor(cv2.imread(path_image), cv2.COLOR_BGR2GRAY)\n",
    "    \n",
    "    cv2.imwrite(dataset_path + \"/train/\" + str(image_name), image)\n",
    "    cv2.imwrite(dataset_path + \"/validation/\" + str(image_name), gray)\n",
    "    \n",
    "    number_images_procesed = number_images_procesed + 1\n",
    "    charge_msg(\"Procesing images... Image: \" + str(number_images_procesed))\n",
    "print(\"\")\n",
    "print(\"\\n\")\n",
    "print(\"All done\")"
   ]
  },
  {
   "cell_type": "code",
   "execution_count": null,
   "metadata": {},
   "outputs": [],
   "source": []
  }
 ],
 "metadata": {
  "kernelspec": {
   "display_name": "Python 3",
   "language": "python",
   "name": "python3"
  },
  "language_info": {
   "codemirror_mode": {
    "name": "ipython",
    "version": 3
   },
   "file_extension": ".py",
   "mimetype": "text/x-python",
   "name": "python",
   "nbconvert_exporter": "python",
   "pygments_lexer": "ipython3",
   "version": "3.7.4"
  }
 },
 "nbformat": 4,
 "nbformat_minor": 2
}
